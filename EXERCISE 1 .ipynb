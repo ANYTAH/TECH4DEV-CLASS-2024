{
 "cells": [
  {
   "cell_type": "code",
   "execution_count": 1,
   "id": "706ab61a",
   "metadata": {},
   "outputs": [
    {
     "name": "stdout",
     "output_type": "stream",
     "text": [
      "\ta\tb\tc\n"
     ]
    }
   ],
   "source": [
    "y = (\"\\ta\\tb\\tc\")\n",
    "print (y)"
   ]
  },
  {
   "cell_type": "code",
   "execution_count": 2,
   "id": "268bc082",
   "metadata": {},
   "outputs": [
    {
     "name": "stdout",
     "output_type": "stream",
     "text": [
      "\\\\\n"
     ]
    }
   ],
   "source": [
    "print(\"\\\\\\\\\")"
   ]
  },
  {
   "cell_type": "code",
   "execution_count": 3,
   "id": "89398368",
   "metadata": {},
   "outputs": [
    {
     "name": "stdout",
     "output_type": "stream",
     "text": [
      "'\n"
     ]
    }
   ],
   "source": [
    "print(\"'\")"
   ]
  },
  {
   "cell_type": "code",
   "execution_count": 4,
   "id": "28884a9e",
   "metadata": {},
   "outputs": [
    {
     "name": "stdout",
     "output_type": "stream",
     "text": [
      "\"\"\"\n"
     ]
    }
   ],
   "source": [
    "print(\"\\\"\\\"\\\"\")"
   ]
  },
  {
   "cell_type": "code",
   "execution_count": 5,
   "id": "d93cb5c6",
   "metadata": {},
   "outputs": [
    {
     "name": "stdout",
     "output_type": "stream",
     "text": [
      "C:\n",
      "in\the downward spiral\n"
     ]
    }
   ],
   "source": [
    "print(\"C:\\nin\\the downward spiral\")"
   ]
  },
  {
   "cell_type": "code",
   "execution_count": 6,
   "id": "48816723",
   "metadata": {},
   "outputs": [
    {
     "name": "stdout",
     "output_type": "stream",
     "text": [
      "/ \\ // \\\\ /// \\\\\\\n"
     ]
    }
   ],
   "source": [
    "print('/ \\\\ // \\\\\\\\ /// \\\\\\\\\\\\')"
   ]
  },
  {
   "cell_type": "code",
   "execution_count": 7,
   "id": "54ffec34",
   "metadata": {},
   "outputs": [
    {
     "name": "stdout",
     "output_type": "stream",
     "text": [
      "\n",
      "This quote is from \n",
      "Irish poet Oscar Wilde:\n",
      "\"Music makes one feel so romantic\n",
      "- at least it always gets on one's nerves – \n",
      "which is the same thing nowadays.\"\n",
      "\n",
      "\n",
      "\n"
     ]
    }
   ],
   "source": [
    "print(\"\"\"\n",
    "This quote is from \n",
    "Irish poet Oscar Wilde:\n",
    "\"Music makes one feel so romantic\n",
    "- at least it always gets on one's nerves – \n",
    "which is the same thing nowadays.\"\n",
    "\n",
    "\n",
    "\"\"\")"
   ]
  },
  {
   "cell_type": "code",
   "execution_count": 8,
   "id": "fd3999f2",
   "metadata": {},
   "outputs": [
    {
     "name": "stdout",
     "output_type": "stream",
     "text": [
      "\n",
      "A \"quoted\" String is \n",
      "'much' better if you learn\n",
      "the rules of \"escape sequences.\"\n",
      "Also, \"\" represents an empty String. \n",
      "Don't forget: use \" instead of \" ! \n",
      "'' is not the same as \"\n",
      "\n",
      "\n"
     ]
    }
   ],
   "source": [
    "print(\"\"\"\n",
    "A \"quoted\" String is \n",
    "'much' better if you learn\n",
    "the rules of \"escape sequences.\"\n",
    "Also, \"\" represents an empty String. \n",
    "Don't forget: use \\\" instead of \" ! \n",
    "'' is not the same as \"\n",
    "\n",
    "\"\"\")"
   ]
  },
  {
   "cell_type": "code",
   "execution_count": 9,
   "id": "7ef12347",
   "metadata": {},
   "outputs": [
    {
     "data": {
      "text/plain": [
       "1.8"
      ]
     },
     "execution_count": 9,
     "metadata": {},
     "output_type": "execute_result"
    }
   ],
   "source": [
    "9 / 5"
   ]
  },
  {
   "cell_type": "code",
   "execution_count": 10,
   "id": "ce439bc1",
   "metadata": {},
   "outputs": [
    {
     "data": {
      "text/plain": [
       "15"
      ]
     },
     "execution_count": 10,
     "metadata": {},
     "output_type": "execute_result"
    }
   ],
   "source": [
    "695 % 20"
   ]
  },
  {
   "cell_type": "code",
   "execution_count": 11,
   "id": "3d72e76c",
   "metadata": {},
   "outputs": [
    {
     "data": {
      "text/plain": [
       "37"
      ]
     },
     "execution_count": 11,
     "metadata": {},
     "output_type": "execute_result"
    }
   ],
   "source": [
    "7 + 6 * 5"
   ]
  },
  {
   "cell_type": "code",
   "execution_count": 12,
   "id": "91410ca7",
   "metadata": {},
   "outputs": [
    {
     "data": {
      "text/plain": [
       "47"
      ]
     },
     "execution_count": 12,
     "metadata": {},
     "output_type": "execute_result"
    }
   ],
   "source": [
    "7 * 6 + 5"
   ]
  },
  {
   "cell_type": "code",
   "execution_count": 13,
   "id": "f8e9f94b",
   "metadata": {},
   "outputs": [
    {
     "data": {
      "text/plain": [
       "9.6"
      ]
     },
     "execution_count": 13,
     "metadata": {},
     "output_type": "execute_result"
    }
   ],
   "source": [
    "248 % 100 / 5"
   ]
  },
  {
   "cell_type": "code",
   "execution_count": 14,
   "id": "c7401891",
   "metadata": {},
   "outputs": [
    {
     "data": {
      "text/plain": [
       "15.75"
      ]
     },
     "execution_count": 14,
     "metadata": {},
     "output_type": "execute_result"
    }
   ],
   "source": [
    "6 * 3 - 9 / 4"
   ]
  },
  {
   "cell_type": "code",
   "execution_count": 15,
   "id": "eb3cbf65",
   "metadata": {},
   "outputs": [
    {
     "data": {
      "text/plain": [
       "-8"
      ]
     },
     "execution_count": 15,
     "metadata": {},
     "output_type": "execute_result"
    }
   ],
   "source": [
    "(5 - 7) * 4"
   ]
  },
  {
   "cell_type": "code",
   "execution_count": 16,
   "id": "873da597",
   "metadata": {},
   "outputs": [
    {
     "data": {
      "text/plain": [
       "9"
      ]
     },
     "execution_count": 16,
     "metadata": {},
     "output_type": "execute_result"
    }
   ],
   "source": [
    "6 + (18 % (17 - 12))"
   ]
  },
  {
   "cell_type": "code",
   "execution_count": null,
   "id": "fd61463f",
   "metadata": {},
   "outputs": [],
   "source": []
  }
 ],
 "metadata": {
  "kernelspec": {
   "display_name": "Python 3 (ipykernel)",
   "language": "python",
   "name": "python3"
  },
  "language_info": {
   "codemirror_mode": {
    "name": "ipython",
    "version": 3
   },
   "file_extension": ".py",
   "mimetype": "text/x-python",
   "name": "python",
   "nbconvert_exporter": "python",
   "pygments_lexer": "ipython3",
   "version": "3.11.5"
  }
 },
 "nbformat": 4,
 "nbformat_minor": 5
}
