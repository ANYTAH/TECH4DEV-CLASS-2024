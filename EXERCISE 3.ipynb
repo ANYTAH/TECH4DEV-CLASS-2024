{
 "cells": [
  {
   "cell_type": "code",
   "execution_count": 1,
   "id": "0998e0cc",
   "metadata": {},
   "outputs": [
    {
     "data": {
      "text/plain": [
       "23"
      ]
     },
     "execution_count": 1,
     "metadata": {},
     "output_type": "execute_result"
    }
   ],
   "source": [
    "number = [2, 4, 7, 4, 23, 5, 1, 4, 8, 9]\n",
    "max(number)"
   ]
  },
  {
   "cell_type": "code",
   "execution_count": 2,
   "id": "3de1c6b3",
   "metadata": {},
   "outputs": [
    {
     "name": "stdout",
     "output_type": "stream",
     "text": [
      "24.6\n"
     ]
    }
   ],
   "source": [
    "# Write a program that calculates the average value of the given list.\n",
    "#Try your program with the following list 4 7 1 5 11 53 12 46 84 23\n",
    "number = [4, 7, 1, 5, 11, 53, 12, 46, 84, 23]\n",
    "average = sum(number) / len(number) \n",
    "print(average)"
   ]
  },
  {
   "cell_type": "code",
   "execution_count": 3,
   "id": "53a21f5a",
   "metadata": {},
   "outputs": [
    {
     "name": "stdout",
     "output_type": "stream",
     "text": [
      "[89, 53, 45, 45, 23, 14, 7, 6, 5, 2]\n"
     ]
    }
   ],
   "source": [
    "# Write a program that prints the given list of integers in reverse order.\n",
    "# Try your program with the following list 2, 6, 7, 45, 23, 53, 14, 45, 89, 5\n",
    "number = [2, 6, 7, 45, 23, 53, 14, 45, 89, 5]\n",
    "number.sort(reverse=True)\n",
    "print(number)"
   ]
  },
  {
   "cell_type": "code",
   "execution_count": 4,
   "id": "c7e2ced0",
   "metadata": {},
   "outputs": [
    {
     "name": "stdout",
     "output_type": "stream",
     "text": [
      "False\n"
     ]
    }
   ],
   "source": [
    "# Write a program that accepts two lists of integers and prints true if each element in the first list ...\n",
    "# is less than the element at the same index in the second list. \n",
    "# Your program should print false if the lists are not the same length.\n",
    "x = [1, 2, 3, 4, 5, 6, 7, 8]\n",
    "y = [91, 92, 93, 94, 95, 96, 97, 98, 99]\n",
    "\n",
    "if len(x) == len(y):\n",
    "    print(\"True\")\n",
    "else:\n",
    "    print(\"False\")"
   ]
  },
  {
   "cell_type": "code",
   "execution_count": 5,
   "id": "8fe4fbfb",
   "metadata": {},
   "outputs": [
    {
     "name": "stdout",
     "output_type": "stream",
     "text": [
      "Original list: [1, 2, 3, 4, 5, 6, 7, 8]\n",
      "List after swapping elements at indexes 2 and 3: [1, 2, 4, 3, 5, 6, 7, 8]\n"
     ]
    }
   ],
   "source": [
    "# Write a program that accepts a list of integers and two indexes and swaps the elements at those indexes\n",
    "def swap_elements(lst, index1, index2):\n",
    "    # Check if the indexes are valid\n",
    "    if 0 <= index1 < len(lst) and 0 <= index2 < len(lst):\n",
    "        # Swap the elements at the specified indexes\n",
    "        lst[index1], lst[index2] = lst[index2], lst[index1]\n",
    "        return lst\n",
    "    else:\n",
    "        print(\"Invalid indexes. Please provide valid indexes.\")\n",
    "\n",
    "# Given list [1, 2, 3, 4, 5, 6, 7, 8]:\n",
    "input_list = [1, 2, 3, 4, 5, 6, 7, 8]\n",
    "\n",
    "print(\"Original list:\", input_list)\n",
    "\n",
    "# Swap elements at indexes 2 and 3\n",
    "result = swap_elements(input_list, 2, 3)\n",
    "\n",
    "print(\"List after swapping elements at indexes 2 and 3:\", result)"
   ]
  },
  {
   "cell_type": "code",
   "execution_count": 6,
   "id": "b5c65503",
   "metadata": {},
   "outputs": [
    {
     "name": "stdout",
     "output_type": "stream",
     "text": [
      "[1, 2, 3, 4, 5, 6, 7, 8, 9]\n"
     ]
    }
   ],
   "source": [
    "#Write a program that accepts two lists of integers and prints a new list \n",
    "#containing all elements of the first list followed by all elements of the second.\n",
    "list1 = [1, 2, 3, 4, 5]\n",
    "list2 = [6, 7, 8, 9]\n",
    "\n",
    "list1.extend(list2)\n",
    "print(list1)"
   ]
  },
  {
   "cell_type": "code",
   "execution_count": 8,
   "id": "7049899d",
   "metadata": {},
   "outputs": [
    {
     "name": "stdout",
     "output_type": "stream",
     "text": [
      "The last index of 85 is: 5\n"
     ]
    }
   ],
   "source": [
    "#Write a program that accepts a list of integers and an integer value as its parameters and prints the last index\n",
    "#at which the value occurs in the list. The program should print –1 if the value is not found. For example, \n",
    "#in the list [74, 85, 102, 99, 101, 85, 56], the last index of the value 85 is 5.\n",
    "def find_last_index(my_list, value):\n",
    "    # Start from the end of the list and iterate backwards\n",
    "    for i in range(len(my_list) - 1, -1, -1):\n",
    "        if my_list[i] == value:\n",
    "            print(\"The last index of\", value, \"is:\", i)\n",
    "            return\n",
    "\n",
    "    # If the value is not found\n",
    "    print(value, \"not found in the list. Last index is -1.\")\n",
    "\n",
    "# Example usage:\n",
    "my_list = [74, 85, 102, 99, 101, 85, 56]\n",
    "search_value = 85\n",
    "find_last_index(my_list, search_value)"
   ]
  },
  {
   "cell_type": "code",
   "execution_count": 9,
   "id": "7f0d2446",
   "metadata": {},
   "outputs": [
    {
     "name": "stdout",
     "output_type": "stream",
     "text": [
      "35\n"
     ]
    }
   ],
   "source": [
    "#Write a program that prints the range of values in a list of integers. \n",
    "#The range is defined as 1 more than the difference between the maximum and minimum values in the list. \n",
    "#For example, if a list contains the values [36, 12, 25, 19, 46, 31, 22], the program should return 35. \n",
    "#You may assume that the list has at least one element.\n",
    "def rangeValue(mylist):\n",
    "    max_value=max(mylist)\n",
    "    min_value=min(mylist)\n",
    "    range_value=(max_value-min_value) + 1\n",
    "    print(range_value)\n",
    "    return\n",
    "myList =[36, 12, 25, 19, 46, 31, 22]\n",
    "rangeValue(myList)\n",
    "    "
   ]
  },
  {
   "cell_type": "code",
   "execution_count": 12,
   "id": "a530db82",
   "metadata": {},
   "outputs": [
    {
     "name": "stdout",
     "output_type": "stream",
     "text": [
      "initial count 0\n",
      "my_list 14 count value 1\n",
      "my_list 17 count value 2\n",
      "my_list 7 count value 3\n",
      "my_list 5 count value 4\n",
      "Count of elements between 4 and 17 is: 4\n"
     ]
    }
   ],
   "source": [
    "#Write a program that accepts a list of integers, a minimum value, and a maximum value and prints the count of \n",
    "#how many elements from the list fall between the minimum and maximum (inclusive). \n",
    "#For example, in the list [14, 1, 22, 17, 36, 7, -43, 5], for minimum value 4 and maximum value 17, \n",
    "#there are four elements whose values fall between 4 and 17.\n",
    "def count_elements_in_range(my_list, min_value, max_value):\n",
    "    # Initialize a counter for elements in the range\n",
    "    count = 0\n",
    "    print(\"initial count\" ,count)\n",
    "    \n",
    "    # Iterate through the list\n",
    "    for i in my_list:\n",
    "        # Check if the element is within the specified range\n",
    "        if min_value <= i <= max_value:\n",
    "            count =count +1\n",
    "            print(\"my_list\", i ,\"count value\",count)\n",
    "    \n",
    "    # Print the count of elements in the range\n",
    "    print(\"Count of elements between\", min_value, \"and\", max_value, \"is:\", count)\n",
    "\n",
    "# Example usage:\n",
    "my_list = [14, 1, 22, 17, 36, 7, -43, 5]\n",
    "min_value = 4\n",
    "max_value = 17\n",
    "\n",
    "count_elements_in_range(my_list, min_value, max_value)\n",
    "\n",
    "    "
   ]
  },
  {
   "cell_type": "code",
   "execution_count": 13,
   "id": "6ce8b349",
   "metadata": {},
   "outputs": [
    {
     "name": "stdout",
     "output_type": "stream",
     "text": [
      "Is list1 sorted? False\n",
      "Is list2 sorted? True\n"
     ]
    }
   ],
   "source": [
    "#Write a program that accepts a list of real numbers and prints true if the list is in sorted (nondecreasing) order \n",
    "#and false otherwise. For example, if lists named list1 and list2 store [16.1, 12.3, 22.2, 14.4] and \n",
    "#[1.5, 4.3, 7.0, 19.5, 25.1, 46.2] respectively, the program should print false for list1 and true for list2 respectively. \n",
    "#Assume the list has at least one element. A one-element list is sorted.\n",
    "def is_sorted(my_list):\n",
    "    # Iterate through the list to check for sorted order\n",
    "    for i in range(len(my_list) - 1):\n",
    "        if my_list[i] > my_list[i + 1]:\n",
    "            return False\n",
    "\n",
    "    # If the loop completes without returning False, the list is sorted\n",
    "    return True\n",
    "\n",
    "# Example usage:\n",
    "list1 = [16.1, 12.3, 22.2, 14.4]\n",
    "list2 = [1.5, 4.3, 7.0, 19.5, 25.1, 46.2]\n",
    "\n",
    "print(\"Is list1 sorted?\", is_sorted(list1))\n",
    "print(\"Is list2 sorted?\", is_sorted(list2))\n"
   ]
  },
  {
   "cell_type": "code",
   "execution_count": null,
   "id": "fd8b7526",
   "metadata": {},
   "outputs": [],
   "source": []
  }
 ],
 "metadata": {
  "kernelspec": {
   "display_name": "Python 3 (ipykernel)",
   "language": "python",
   "name": "python3"
  },
  "language_info": {
   "codemirror_mode": {
    "name": "ipython",
    "version": 3
   },
   "file_extension": ".py",
   "mimetype": "text/x-python",
   "name": "python",
   "nbconvert_exporter": "python",
   "pygments_lexer": "ipython3",
   "version": "3.11.5"
  }
 },
 "nbformat": 4,
 "nbformat_minor": 5
}
