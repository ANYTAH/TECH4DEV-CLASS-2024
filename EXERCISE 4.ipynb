{
 "cells": [
  {
   "cell_type": "code",
   "execution_count": 1,
   "id": "0e7ed544",
   "metadata": {},
   "outputs": [
    {
     "name": "stdout",
     "output_type": "stream",
     "text": [
      "+----+\n",
      "\\ /\n",
      "/ \\\n",
      "\\ /\n",
      "/ \\\n",
      "\\ /\n",
      "+----+\n"
     ]
    }
   ],
   "source": [
    "#Write a program to produce the following output using for loop\n",
    "def print_pattern(rows):\n",
    "    for index in range(rows):\n",
    "        if index == 0 or index == rows - 1:\n",
    "            print(\"+----+\")\n",
    "        else:\n",
    "            if index % 2 == 1:\n",
    "                print(\"\\\\ /\")\n",
    "            else:\n",
    "                print(\"/ \\\\\")\n",
    "num_rows = 7\n",
    "\n",
    "print_pattern(num_rows)"
   ]
  },
  {
   "cell_type": "code",
   "execution_count": 2,
   "id": "a067d8e0",
   "metadata": {},
   "outputs": [
    {
     "name": "stdout",
     "output_type": "stream",
     "text": [
      "**********\n",
      "**********\n",
      "**********\n",
      "**********\n",
      "**********\n"
     ]
    }
   ],
   "source": [
    "#Write a program to produce the following output using for loop\n",
    "def print_pattern(rows, cols):\n",
    "    for x in range(rows):\n",
    "        for y in range(cols):\n",
    "            print(\"*\", end=\"\")\n",
    "        print()\n",
    "num_rows = 5\n",
    "num_cols = 10\n",
    "\n",
    "print_pattern(num_rows, num_cols)"
   ]
  },
  {
   "cell_type": "code",
   "execution_count": 3,
   "id": "9b1d4a2e",
   "metadata": {},
   "outputs": [
    {
     "name": "stdout",
     "output_type": "stream",
     "text": [
      "1\n",
      "2\n",
      "3\n",
      "4\n",
      "5\n",
      "6\n",
      "\n",
      "2\n",
      "4\n",
      "6\n",
      "8\n",
      "10\n",
      "12\n",
      "\n",
      "4\n",
      "19\n",
      "34\n",
      "49\n",
      "64\n",
      "79\n",
      "\n",
      "30\n",
      "20\n",
      "10\n",
      "0\n",
      "-10\n",
      "-20\n",
      "\n",
      "-7\n",
      "-3\n",
      "1\n",
      "5\n",
      "9\n",
      "13\n",
      "\n",
      "97\n",
      "94\n",
      "91\n",
      "88\n",
      "85\n",
      "82\n",
      "\n",
      "-4\n",
      "14\n",
      "32\n",
      "50\n",
      "68\n",
      "86\n"
     ]
    }
   ],
   "source": [
    "for a in range(1,7):\n",
    "    print(a)\n",
    " \n",
    "print()\n",
    "for b in range (1,7):\n",
    "    print(b * 2)\n",
    "    \n",
    "print()\n",
    "for c in range(1, 7):\n",
    "    print(4 + 15 * (c - 1))\n",
    "    \n",
    "print()\n",
    "for d in range(1, 7):\n",
    "    print(40 - 10 * d)\n",
    "    \n",
    "print()\n",
    "for e in range(1, 7):\n",
    "    print(-7 + (e-1) * 4)\n",
    "\n",
    "print()\n",
    "for f in range(1, 7):\n",
    "    print(97 - 3 * (f-1))\n",
    "    \n",
    "print()\n",
    "for g in range(1, 7):\n",
    "    print(-4 + (g -1) * 18)"
   ]
  },
  {
   "cell_type": "code",
   "execution_count": 4,
   "id": "463f0155",
   "metadata": {},
   "outputs": [
    {
     "name": "stdout",
     "output_type": "stream",
     "text": [
      "1\n",
      "22\n",
      "333\n",
      "4444\n",
      "55555\n",
      "666666\n",
      "7777777\n"
     ]
    }
   ],
   "source": [
    "#Write a program to produce the following output using for loops. Then use a class constant to make it possible to \n",
    "#change the number of lines in the figure.\n",
    "class NumberTriangle:\n",
    "    # Class constant for the number of lines in the figure\n",
    "    NUM_LINES = 7\n",
    "\n",
    "    def print_triangle(self):\n",
    "        for i in range(1, self.NUM_LINES + 1):\n",
    "            for j in range(i):\n",
    "                print(i, end=\"\")\n",
    "            print()\n",
    "\n",
    "x = NumberTriangle()\n",
    "\n",
    "x.print_triangle()"
   ]
  },
  {
   "cell_type": "code",
   "execution_count": 5,
   "id": "62e02e98",
   "metadata": {},
   "outputs": [
    {
     "name": "stdout",
     "output_type": "stream",
     "text": [
      "33.0\n",
      "50.0\n"
     ]
    }
   ],
   "source": [
    "#Write a method named pay that accepts two parameters: a real number for a TA's salary, \n",
    "#and an integer for the number of hours the TA worked this week. \n",
    "#The method should return how much money to pay the TA. For example, the call\n",
    "\n",
    "def pay(salary_rate, hours_worked):\n",
    "    normal_hours = 8\n",
    "    overtime_rate = 1.5\n",
    "\n",
    "    if hours_worked <= normal_hours:\n",
    "        return salary_rate * hours_worked\n",
    "    else:\n",
    "        normal_pay = salary_rate * normal_hours\n",
    "        overtime_pay = salary_rate * overtime_rate * (hours_worked - normal_hours)\n",
    "        return normal_pay + overtime_pay\n",
    "\n",
    "salary_rate_1 = 5.50\n",
    "hours_worked_1 = 6\n",
    "payment_1 = pay(salary_rate_1, hours_worked_1)\n",
    "print(payment_1)  # Output: 33.0\n",
    "\n",
    "salary_rate_2 = 4.00\n",
    "hours_worked_2 = 11\n",
    "payment_2 = pay(salary_rate_2, hours_worked_2)\n",
    "print(payment_2)  # Output: 50.0"
   ]
  },
  {
   "cell_type": "code",
   "execution_count": 6,
   "id": "937487ec",
   "metadata": {},
   "outputs": [
    {
     "data": {
      "text/plain": [
       "12.566370614359172"
      ]
     },
     "execution_count": 6,
     "metadata": {},
     "output_type": "execute_result"
    }
   ],
   "source": [
    "# question 6\n",
    "import math\n",
    "#calculate the area\n",
    "def area(radius):\n",
    "    return math.pi * radius ** 2\n",
    "#print area given the radius is 2.0\n",
    "radius = 2.0\n",
    "area(radius)"
   ]
  },
  {
   "cell_type": "code",
   "execution_count": 7,
   "id": "3d7a7d7c",
   "metadata": {},
   "outputs": [
    {
     "name": "stdout",
     "output_type": "stream",
     "text": [
      "sum =  500500\n",
      "low? 300\n",
      "high? 5298\n",
      "sum = 13986903\n"
     ]
    }
   ],
   "source": [
    "low = 1\n",
    "high = 1001\n",
    "sum = 0\n",
    "for i in range(low,high):\n",
    "    sum += i\n",
    "print(\"sum = \" , sum)\n",
    "\n",
    "#using the input function\n",
    "low = int(input('low? '))\n",
    "high = int(input('high? '))\n",
    "#sum \n",
    "sum_val = 0\n",
    "for i in range(low, high):\n",
    "    sum_val += i\n",
    "#print result\n",
    "print('sum =', sum_val)\n"
   ]
  },
  {
   "cell_type": "code",
   "execution_count": 9,
   "id": "9ee0cc06",
   "metadata": {},
   "outputs": [
    {
     "name": "stdout",
     "output_type": "stream",
     "text": [
      "Enter a number (or 0 to finish): 2\n",
      "Enter another number (or 0 to finish): 4\n",
      "Enter another number (or 0 to finish): 7\n",
      "Enter another number (or 0 to finish): 9\n",
      "Enter another number (or 0 to finish): 0\n",
      "Sum of the nuumbers entered: 22\n"
     ]
    }
   ],
   "source": [
    "# prompt user for numbers and prints sum\n",
    "sum_val = 0\n",
    "num = int(input('Enter a number (or 0 to finish): '))\n",
    "while num != 0:\n",
    "    sum_val += num\n",
    "    num = int(input('Enter another number (or 0 to finish): '))\n",
    "print('Sum of the nuumbers entered:', sum_val)"
   ]
  },
  {
   "cell_type": "code",
   "execution_count": 10,
   "id": "2da293a5",
   "metadata": {},
   "outputs": [
    {
     "name": "stdout",
     "output_type": "stream",
     "text": [
      "Enter a number (or -1 to finish): 2\n",
      "Enter another number (or -1 to finish): 4\n",
      "Enter another number (or -1 to finish): 6\n",
      "Enter another number (or -1 to finish): 7\n",
      "Enter another number (or -1 to finish): 9\n",
      "Enter another number (or -1 to finish): -1\n",
      "Sum of the numbers entered: 28\n"
     ]
    }
   ],
   "source": [
    "#question 9\n",
    "# prompt user for numbers and prints sum\n",
    "sum_val = 0\n",
    "num = int(input(\"Enter a number (or -1 to finish): \"))\n",
    "\n",
    "while num != -1:\n",
    "    sum_val += num\n",
    "    num = int(input(\"Enter another number (or -1 to finish): \"))\n",
    "\n",
    "print(\"Sum of the numbers entered:\", sum_val)\n"
   ]
  },
  {
   "cell_type": "code",
   "execution_count": 11,
   "id": "74d11543",
   "metadata": {},
   "outputs": [
    {
     "name": "stdout",
     "output_type": "stream",
     "text": [
      "hellohellohello\n"
     ]
    }
   ],
   "source": [
    "#quetion 10\n",
    "def repl(input_str, repititions):\n",
    "    if repititions <= 0:\n",
    "        return \"\"\n",
    "    else:\n",
    "        return input_str * repititions\n",
    "result = repl(\"hello\", 3)\n",
    "print(result)"
   ]
  },
  {
   "cell_type": "code",
   "execution_count": 12,
   "id": "c530db64",
   "metadata": {},
   "outputs": [
    {
     "name": "stdout",
     "output_type": "stream",
     "text": [
      "2 3 4 5 6 7 \n",
      "19 18 17 16 15 14 13 12 11 \n",
      "5\n"
     ]
    }
   ],
   "source": [
    "#question 11\n",
    "def printRange(start, end):\n",
    "    if start < end:\n",
    "        for num in range(start, end + 1):\n",
    "            print(num, end=\" \")\n",
    "    elif start > end:\n",
    "        for num in range(start, end - 1, -1):\n",
    "            print(num, end=\" \")\n",
    "    else:\n",
    "        print(start)\n",
    "\n",
    "printRange(2, 7)\n",
    "print()  # Print an empty line for separation\n",
    "printRange(19, 11)\n",
    "print()  # Print an empty line for separation\n",
    "printRange(5, 5)"
   ]
  },
  {
   "cell_type": "code",
   "execution_count": 13,
   "id": "78e5b244",
   "metadata": {},
   "outputs": [
    {
     "name": "stdout",
     "output_type": "stream",
     "text": [
      "How many numbers do you want to enter? 4\n",
      "Number 1: 5\n",
      "Number 2: 11\n",
      "Number 3: 7\n",
      "Number 4: 9\n",
      "Smallest = 5.0\n",
      "Largest = 11.0\n"
     ]
    }
   ],
   "source": [
    "#question 12\n",
    "def smallestLargest():\n",
    "    num_count = int(input(\"How many numbers do you want to enter? \"))\n",
    "\n",
    "    if num_count <= 0:\n",
    "        print(\"Please enter a valid number greater than 0.\")\n",
    "        return\n",
    "\n",
    "    smallest = float('inf')  \n",
    "    largest = float('-inf')  \n",
    "    \n",
    "    for i in range(1, num_count + 1):\n",
    "        num = float(input(f\"Number {i}: \"))\n",
    "        smallest = min(smallest, num)\n",
    "        largest = max(largest, num)\n",
    "\n",
    "    print(f\"Smallest = {smallest}\")\n",
    "    print(f\"Largest = {largest}\")\n",
    "\n",
    "smallestLargest()\n"
   ]
  },
  {
   "cell_type": "code",
   "execution_count": 14,
   "id": "47afddfe",
   "metadata": {},
   "outputs": [
    {
     "name": "stdout",
     "output_type": "stream",
     "text": [
      "Type a number: 3\n",
      "Type a number: 6\n",
      "Type a number: 7\n",
      "Type a number: 8\n",
      "Type a number: 4\n",
      "Type a number: 12\n",
      "Type a number: -6\n",
      "Average was 6.7\n"
     ]
    }
   ],
   "source": [
    "#question 13\n",
    "def printAverage():\n",
    "    total = 0\n",
    "    count = 0\n",
    "\n",
    "    while True:\n",
    "        num = float(input(\"Type a number: \"))\n",
    "        \n",
    "        if num < 0:\n",
    "            if count > 0:\n",
    "                average = total / count\n",
    "                print(f\"Average was {average:.1f}\")\n",
    "            else:\n",
    "                print(\"No nonnegative numbers were entered.\")\n",
    "            break  # Break the loop when a negative number is entered\n",
    "\n",
    "        total += num\n",
    "        count += 1\n",
    "printAverage()"
   ]
  },
  {
   "cell_type": "code",
   "execution_count": 15,
   "id": "e573fb48",
   "metadata": {},
   "outputs": [
    {
     "name": "stdout",
     "output_type": "stream",
     "text": [
      "3\n",
      "2\n"
     ]
    }
   ],
   "source": [
    "#question 14\n",
    "def numUnique(num1, num2, num3):\n",
    "    unique_numbers = {num1, num2, num3}\n",
    "    return len(unique_numbers)\n",
    "\n",
    "result1 = numUnique(18,3,4)\n",
    "print(result1)\n",
    "result2 = numUnique(6,7,6)\n",
    "print(result2)"
   ]
  },
  {
   "cell_type": "code",
   "execution_count": 16,
   "id": "1537d555",
   "metadata": {},
   "outputs": [
    {
     "name": "stdout",
     "output_type": "stream",
     "text": [
      "5 + 6 = 11\n",
      "2 + 2 = 4\n",
      "6 + 3 = 9\n",
      "4 + 1 = 5\n",
      "5 + 2 = 7\n",
      "You won after 5 tries!\n"
     ]
    }
   ],
   "source": [
    "#question 15\n",
    "import random\n",
    "\n",
    "def roll_dice():\n",
    "    return random.randint(1, 6)\n",
    "\n",
    "def main():\n",
    "    target_sum = 7\n",
    "    tries = 0\n",
    "\n",
    "    while True:\n",
    "        dice1 = roll_dice()\n",
    "        dice2 = roll_dice()\n",
    "        total = dice1 + dice2\n",
    "\n",
    "        print(f\"{dice1} + {dice2} = {total}\")\n",
    "\n",
    "        tries += 1\n",
    "\n",
    "        if total == target_sum:\n",
    "            print(f\"You won after {tries} tries!\")\n",
    "            break\n",
    "\n",
    "if __name__ == \"__main__\":\n",
    "    main()\n"
   ]
  },
  {
   "cell_type": "code",
   "execution_count": null,
   "id": "4f856ce3",
   "metadata": {},
   "outputs": [],
   "source": []
  }
 ],
 "metadata": {
  "kernelspec": {
   "display_name": "Python 3 (ipykernel)",
   "language": "python",
   "name": "python3"
  },
  "language_info": {
   "codemirror_mode": {
    "name": "ipython",
    "version": 3
   },
   "file_extension": ".py",
   "mimetype": "text/x-python",
   "name": "python",
   "nbconvert_exporter": "python",
   "pygments_lexer": "ipython3",
   "version": "3.11.5"
  }
 },
 "nbformat": 4,
 "nbformat_minor": 5
}
